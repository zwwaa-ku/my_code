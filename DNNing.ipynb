{
 "cells": [
  {
   "cell_type": "code",
   "execution_count": 1,
   "metadata": {},
   "outputs": [],
   "source": [
    "import numpy as np\n",
    "import random\n",
    "from keras.models import Sequential\n",
    "from keras.layers import Dense, Activation, Flatten, Conv1D, MaxPooling1D, BatchNormalization, GlobalAveragePooling2D\n",
    "from keras.utils import to_categorical\n",
    "import pandas as pd\n",
    "import sys\n",
    "import os\n",
    "import matplotlib.pyplot as plt\n",
    "%matplotlib inline\n",
    "import itertools\n",
    "import csv\n",
    "import keras.backend as K\n",
    "from keras.layers.core import Lambda\n",
    "import tensorflow as tf\n",
    "import keras\n",
    "import cv2"
   ]
  },
  {
   "cell_type": "code",
   "execution_count": 2,
   "metadata": {},
   "outputs": [],
   "source": [
    "def load_y_data(inputPath='Personality.xlsx'):\n",
    "    #return nparray: list['Neuroticism (t score)','Extraversion',\n",
    "    #     'Openness','Agreeableness','Conscienciousness']*'num of people'\n",
    "    print('[INFO] loading Personality Data, Path: '+ inputPath)\n",
    "    personality_in1 = pd.read_excel(inputPath)\n",
    "    personality = personality_in1.drop([0])\n",
    "    list_personality = personality[['Neuroticism (t score)','Extraversion (t score)',\\\n",
    "             'Openness (t score)','Agreeableness (t score)','Conscienciousness (t score)','Sex']].values.tolist()\n",
    "    nparray_personality = np.array(list_personality)\n",
    "    return nparray_personality\n",
    "\n",
    "def load_x_data(inputPath):\n",
    "    print('[INFO] loading Acc Data, Path: '+ inputPath)\n",
    "    x_data = []\n",
    "    for u in range(2,53):\n",
    "        acc = pd.read_csv(os.path.join(inputPath,f'{u}','ACC.csv'))\n",
    "        #acc[0:1]はHzを表しているので除く\n",
    "        x_data += [acc[1:]]\n",
    "    #返り値：list、中がDataFrame\n",
    "    return x_data\n",
    "\n",
    "def split_data(data, size):\n",
    "    return_list = []\n",
    "    block_num = len(data) // size\n",
    "    for k in range(0,block_num):\n",
    "        return_list += [np.array(data[k*size:(k+1)*size])]\n",
    "    #返り値：nparray\n",
    "    return np.array(return_list)\n",
    "\n",
    "def mk_data(x, y, size = 10000, number = 3, lock = 1):\n",
    "    #x,y -> load_x_data,load_y_data\n",
    "    xlist = []\n",
    "    ylist = []\n",
    "    for k in range(0,len(x)):\n",
    "        if len(x[k]) < size * number:\n",
    "            print('ValueError: x[k] must be more than size*number')\n",
    "            break\n",
    "        splited = split_data(x[k], size)\n",
    "        index = list(itertools.permutations(range(splited.shape[0]), number))\n",
    "        random.shuffle(index)\n",
    "        upper = lock\n",
    "        #print(upper)\n",
    "        for l in index[:upper]:\n",
    "            onedata = splited[list(l)]\n",
    "            xlist += [onedata.reshape(size*number,3)]\n",
    "            ylist += [y[k]]\n",
    "    re_x = np.array(xlist)\n",
    "    re_y = np.array(ylist)\n",
    "    return re_x, re_y\n",
    "\n",
    "def data_shuffle(x_b, y_b):\n",
    "    x_list = []\n",
    "    index = np.random.permutation(len(x_b))\n",
    "#    index =[29,43,7,24,26,40,12,47,20,16,49,14,41,15,48,10,19,42,13,1,6,8,4,25,23,35,34,2,21,0,31,46,32,30,18,17,45,36,37,50,11,3,38,9,5,39,44,33,22,28,27]\n",
    "    for i in index:\n",
    "        x_list += [x_b[i]]\n",
    "    y_b = y_b[index]\n",
    "    return x_list, y_b, index"
   ]
  },
  {
   "cell_type": "code",
   "execution_count": 41,
   "metadata": {
    "scrolled": true
   },
   "outputs": [
    {
     "name": "stdout",
     "output_type": "stream",
     "text": [
      "[INFO] loading Personality Data, Path: ../Personality_v2.xlsx\n",
      "[INFO] loading Acc Data, Path: ../E4wristband\n",
      "(51,)\n",
      "[0.2032967  0.89010989 0.58791209 0.86263736 0.67659684 0.60362294\n",
      " 0.56043956 0.54524382 0.56043956 0.38470124 0.36813187 0.53296703\n",
      " 0.80769231 0.53064904 0.3956044  0.83516484 0.66200206 0.4868647\n",
      " 0.42307692 0.5598386  0.80769231 0.42848558 0.7057864  0.74957074\n",
      " 0.4138908  0.67032967 0.51605426 0.6328125  0.44308036 0.23076923\n",
      " 0.86263736 0.6328125  0.56043956 0.25824176 0.45767514 0.2032967\n",
      " 0.5598386  0.45054945 0.50549451 0.78021978 0.72038118 0.53064904\n",
      " 0.6328125  0.69119162 0.35551168 0.83266733 1.         0.50549451\n",
      " 0.50549451 0.44308036 0.67659684]\n"
     ]
    }
   ],
   "source": [
    "covlist = []\n",
    "error = []\n",
    "traindata_size = 100000\n",
    "\n",
    "personality = load_y_data('../Personality_v2.xlsx')\n",
    "#print(personality)\n",
    "\n",
    "# t-scoreを０−１に落とす、平均０.５\n",
    "max_values = (np.abs(personality[:, 0] - 50)).max()\n",
    "y_train_before = (personality[:, 0] - 50)/(2*max_values) + 0.5\n",
    "\n",
    "x_train_before = load_x_data('../E4wristband')\n",
    "\n",
    "print(y_train_before.shape)\n",
    "print(y_train_before)"
   ]
  },
  {
   "cell_type": "code",
   "execution_count": 42,
   "metadata": {},
   "outputs": [
    {
     "name": "stdout",
     "output_type": "stream",
     "text": [
      "[4, 5, 7, 9, 13, 16, 17, 19, 21, 22, 23, 24, 26, 27, 28, 31, 34, 36, 40, 41, 42, 43, 44, 49, 50]\n",
      "learning only woman\n"
     ]
    }
   ],
   "source": [
    "sex = 2.0\n",
    "#1->男性 ,2->女性\n",
    "sex_list = []\n",
    "for k in range(personality.shape[0]):\n",
    "    if personality[k,5]==sex:\n",
    "        sex_list.append(k)\n",
    "if sex == 1.0:\n",
    "    sex_str='man'\n",
    "elif sex == 2.0:\n",
    "    sex_str='woman'\n",
    "else:\n",
    "    sex_str='error: sex can be available only 1.0 or 2.0'\n",
    "print(sex_list)\n",
    "print('learning only ' + sex_str)\n",
    "beforeindex=personality.shape[0]\n",
    "for k in reversed(sex_list):\n",
    "    del x_train_before[k]\n",
    "    if beforeindex <= k:\n",
    "        print('DNNing delete part: error')\n",
    "    else:\n",
    "        beforeindex=k\n",
    "y_train_before = np.delete(y_train_before, sex_list, 0)"
   ]
  },
  {
   "cell_type": "code",
   "execution_count": 43,
   "metadata": {},
   "outputs": [],
   "source": [
    "\n",
    "x_train_before, y_train_before, shuffle_index = data_shuffle(x_train_before, y_train_before)\n"
   ]
  },
  {
   "cell_type": "code",
   "execution_count": 44,
   "metadata": {},
   "outputs": [
    {
     "name": "stdout",
     "output_type": "stream",
     "text": [
      "(26,)\n"
     ]
    }
   ],
   "source": [
    "print(y_train_before.shape)"
   ]
  },
  {
   "cell_type": "code",
   "execution_count": 45,
   "metadata": {},
   "outputs": [
    {
     "name": "stdout",
     "output_type": "stream",
     "text": [
      "(420, 100000, 3)\n",
      "(420,)\n",
      "(12, 100000, 3)\n",
      "(12,)\n"
     ]
    }
   ],
   "source": [
    "\n",
    "# print(len(x_train_before))\n",
    "split_use_num = 5\n",
    "split = int(traindata_size/split_use_num)\n",
    "if traindata_size%split_use_num != 0:\n",
    "    print('split_use_num was individabl')\n",
    "x_train,y_train = mk_data(x_train_before[:14], y_train_before[:14], split, split_use_num, 30)\n",
    "x_test, y_test = mk_data(x_train_before[14:], y_train_before[14:], traindata_size, 1, 1)\n",
    "print(x_train.shape)\n",
    "print(y_train.shape)\n",
    "print(x_test.shape)\n",
    "print(y_test.shape)"
   ]
  },
  {
   "cell_type": "code",
   "execution_count": 46,
   "metadata": {
    "scrolled": true
   },
   "outputs": [
    {
     "name": "stdout",
     "output_type": "stream",
     "text": [
      "Model: \"sequential_5\"\n",
      "_________________________________________________________________\n",
      "Layer (type)                 Output Shape              Param #   \n",
      "=================================================================\n",
      "conv1d_30 (Conv1D)           (None, 100000, 32)        800       \n",
      "_________________________________________________________________\n",
      "conv1d_31 (Conv1D)           (None, 100000, 32)        4128      \n",
      "_________________________________________________________________\n",
      "max_pooling1d_15 (MaxPooling (None, 33333, 32)         0         \n",
      "_________________________________________________________________\n",
      "conv1d_32 (Conv1D)           (None, 33333, 64)         4160      \n",
      "_________________________________________________________________\n",
      "conv1d_33 (Conv1D)           (None, 33333, 64)         8256      \n",
      "_________________________________________________________________\n",
      "max_pooling1d_16 (MaxPooling (None, 11111, 64)         0         \n",
      "_________________________________________________________________\n",
      "conv1d_34 (Conv1D)           (None, 11111, 128)        16512     \n",
      "_________________________________________________________________\n",
      "conv1d_35 (Conv1D)           (None, 11111, 128)        32896     \n",
      "_________________________________________________________________\n",
      "max_pooling1d_17 (MaxPooling (None, 3703, 128)         0         \n",
      "_________________________________________________________________\n",
      "flatten_5 (Flatten)          (None, 473984)            0         \n",
      "_________________________________________________________________\n",
      "dense_10 (Dense)             (None, 100)               47398500  \n",
      "_________________________________________________________________\n",
      "dense_11 (Dense)             (None, 1)                 101       \n",
      "=================================================================\n",
      "Total params: 47,465,353\n",
      "Trainable params: 47,465,353\n",
      "Non-trainable params: 0\n",
      "_________________________________________________________________\n",
      "Epoch 1/100\n",
      "14/14 [==============================] - 3s 206ms/step - loss: 0.1727 - val_loss: 0.2504\n",
      "Epoch 2/100\n",
      "14/14 [==============================] - 3s 197ms/step - loss: 0.1917 - val_loss: 0.2460\n",
      "Epoch 3/100\n",
      "14/14 [==============================] - 3s 198ms/step - loss: 0.1878 - val_loss: 0.2438\n",
      "Epoch 4/100\n",
      "14/14 [==============================] - 3s 198ms/step - loss: 0.1839 - val_loss: 0.2356\n",
      "Epoch 5/100\n",
      "14/14 [==============================] - 3s 198ms/step - loss: 0.1742 - val_loss: 0.2232\n",
      "Epoch 6/100\n",
      "14/14 [==============================] - 3s 198ms/step - loss: 0.1640 - val_loss: 0.2114\n",
      "Epoch 7/100\n",
      "14/14 [==============================] - 3s 197ms/step - loss: 0.1473 - val_loss: 0.1708\n",
      "Epoch 8/100\n",
      "14/14 [==============================] - 3s 198ms/step - loss: 0.1105 - val_loss: 0.1405\n",
      "Epoch 9/100\n",
      "14/14 [==============================] - 3s 199ms/step - loss: 0.0762 - val_loss: 0.0940\n",
      "Epoch 10/100\n",
      "14/14 [==============================] - 3s 198ms/step - loss: 0.0510 - val_loss: 0.0750\n",
      "Epoch 11/100\n",
      "14/14 [==============================] - 3s 198ms/step - loss: 0.0430 - val_loss: 0.0692\n",
      "Epoch 12/100\n",
      "14/14 [==============================] - 3s 198ms/step - loss: 0.0413 - val_loss: 0.0662\n",
      "Epoch 13/100\n",
      "14/14 [==============================] - 3s 199ms/step - loss: 0.0406 - val_loss: 0.0674\n",
      "Epoch 14/100\n",
      "14/14 [==============================] - 3s 199ms/step - loss: 0.0401 - val_loss: 0.0662\n",
      "Epoch 15/100\n",
      "14/14 [==============================] - 3s 198ms/step - loss: 0.0390 - val_loss: 0.0704\n",
      "Epoch 16/100\n",
      "14/14 [==============================] - 3s 199ms/step - loss: 0.0369 - val_loss: 0.0655\n",
      "Epoch 17/100\n",
      "14/14 [==============================] - 3s 198ms/step - loss: 0.0365 - val_loss: 0.0696\n",
      "Epoch 18/100\n",
      "14/14 [==============================] - 3s 199ms/step - loss: 0.0326 - val_loss: 0.1096\n",
      "Epoch 19/100\n",
      "14/14 [==============================] - 3s 199ms/step - loss: 0.0376 - val_loss: 0.0734\n",
      "Epoch 20/100\n",
      "14/14 [==============================] - 3s 199ms/step - loss: 0.0320 - val_loss: 0.0659\n",
      "Epoch 21/100\n",
      "14/14 [==============================] - 3s 199ms/step - loss: 0.0319 - val_loss: 0.0734\n",
      "Epoch 22/100\n",
      "14/14 [==============================] - 3s 199ms/step - loss: 0.0268 - val_loss: 0.0671\n",
      "Epoch 23/100\n",
      "14/14 [==============================] - 3s 199ms/step - loss: 0.0233 - val_loss: 0.0975\n",
      "Epoch 24/100\n",
      "14/14 [==============================] - 3s 198ms/step - loss: 0.0279 - val_loss: 0.0810\n",
      "Epoch 25/100\n",
      "14/14 [==============================] - 3s 199ms/step - loss: 0.0188 - val_loss: 0.0710\n",
      "Epoch 26/100\n",
      "14/14 [==============================] - 3s 199ms/step - loss: 0.0175 - val_loss: 0.0725\n",
      "Epoch 27/100\n",
      "14/14 [==============================] - 3s 199ms/step - loss: 0.0169 - val_loss: 0.0817\n",
      "Epoch 28/100\n",
      "14/14 [==============================] - 3s 199ms/step - loss: 0.0139 - val_loss: 0.1020\n",
      "Epoch 29/100\n",
      "14/14 [==============================] - 3s 199ms/step - loss: 0.0151 - val_loss: 0.0812\n",
      "Epoch 30/100\n",
      "14/14 [==============================] - 3s 199ms/step - loss: 0.0123 - val_loss: 0.0866\n",
      "Epoch 31/100\n",
      "14/14 [==============================] - 3s 198ms/step - loss: 0.0131 - val_loss: 0.0993\n",
      "Epoch 32/100\n",
      "14/14 [==============================] - 3s 198ms/step - loss: 0.0101 - val_loss: 0.0709\n",
      "Epoch 33/100\n",
      "14/14 [==============================] - 3s 198ms/step - loss: 0.0088 - val_loss: 0.0770\n",
      "Epoch 34/100\n",
      "14/14 [==============================] - 3s 199ms/step - loss: 0.0064 - val_loss: 0.0751\n",
      "Epoch 35/100\n",
      "14/14 [==============================] - 3s 197ms/step - loss: 0.0059 - val_loss: 0.0752\n",
      "Epoch 36/100\n",
      "14/14 [==============================] - 3s 199ms/step - loss: 0.0051 - val_loss: 0.0742\n",
      "Epoch 37/100\n",
      "14/14 [==============================] - 3s 199ms/step - loss: 0.0066 - val_loss: 0.1039\n",
      "Epoch 38/100\n",
      "14/14 [==============================] - 3s 198ms/step - loss: 0.0057 - val_loss: 0.0793\n",
      "Epoch 39/100\n",
      "14/14 [==============================] - 3s 199ms/step - loss: 0.0031 - val_loss: 0.0774\n",
      "Epoch 40/100\n",
      "14/14 [==============================] - 3s 199ms/step - loss: 0.0035 - val_loss: 0.0940\n",
      "Epoch 41/100\n",
      "14/14 [==============================] - 3s 200ms/step - loss: 0.0031 - val_loss: 0.0788\n",
      "Epoch 42/100\n",
      "14/14 [==============================] - 3s 199ms/step - loss: 0.0026 - val_loss: 0.0811\n",
      "Epoch 43/100\n",
      "14/14 [==============================] - 3s 200ms/step - loss: 0.0023 - val_loss: 0.0917\n",
      "Epoch 44/100\n",
      "14/14 [==============================] - 3s 200ms/step - loss: 0.0025 - val_loss: 0.0783\n",
      "Epoch 45/100\n",
      "14/14 [==============================] - 3s 200ms/step - loss: 0.0017 - val_loss: 0.0813\n",
      "Epoch 46/100\n",
      "14/14 [==============================] - 3s 200ms/step - loss: 0.0021 - val_loss: 0.0793\n",
      "Epoch 47/100\n",
      "14/14 [==============================] - 3s 200ms/step - loss: 0.0019 - val_loss: 0.0813\n",
      "Epoch 48/100\n",
      "14/14 [==============================] - 3s 199ms/step - loss: 0.0014 - val_loss: 0.0837\n",
      "Epoch 49/100\n",
      "14/14 [==============================] - 3s 199ms/step - loss: 0.0016 - val_loss: 0.0769\n",
      "Epoch 50/100\n",
      "14/14 [==============================] - 3s 199ms/step - loss: 0.0016 - val_loss: 0.0866\n",
      "Epoch 51/100\n",
      "14/14 [==============================] - 3s 199ms/step - loss: 0.0013 - val_loss: 0.0854\n",
      "Epoch 52/100\n",
      "14/14 [==============================] - 3s 200ms/step - loss: 0.0012 - val_loss: 0.0804\n",
      "Epoch 53/100\n",
      "14/14 [==============================] - 3s 198ms/step - loss: 0.0015 - val_loss: 0.0803\n",
      "Epoch 54/100\n",
      "14/14 [==============================] - 3s 200ms/step - loss: 0.0012 - val_loss: 0.0826\n",
      "Epoch 55/100\n",
      "14/14 [==============================] - 3s 199ms/step - loss: 0.0010 - val_loss: 0.0820\n",
      "Epoch 56/100\n",
      "14/14 [==============================] - 3s 199ms/step - loss: 0.0011 - val_loss: 0.0851\n",
      "Epoch 57/100\n",
      "14/14 [==============================] - 3s 200ms/step - loss: 0.0011 - val_loss: 0.0830\n",
      "Epoch 58/100\n",
      "14/14 [==============================] - 3s 199ms/step - loss: 0.0010 - val_loss: 0.0825\n",
      "Epoch 59/100\n",
      "14/14 [==============================] - 3s 199ms/step - loss: 8.5643e-04 - val_loss: 0.0842\n",
      "Epoch 60/100\n",
      "14/14 [==============================] - 3s 198ms/step - loss: 0.0012 - val_loss: 0.0818\n",
      "Epoch 61/100\n",
      "14/14 [==============================] - 3s 199ms/step - loss: 8.3233e-04 - val_loss: 0.0807\n",
      "Epoch 62/100\n"
     ]
    },
    {
     "name": "stdout",
     "output_type": "stream",
     "text": [
      "14/14 [==============================] - 3s 199ms/step - loss: 8.6560e-04 - val_loss: 0.0774\n",
      "Epoch 63/100\n",
      "14/14 [==============================] - 3s 200ms/step - loss: 9.0779e-04 - val_loss: 0.0806\n",
      "Epoch 64/100\n",
      "14/14 [==============================] - 3s 200ms/step - loss: 8.4605e-04 - val_loss: 0.0827\n",
      "Epoch 65/100\n",
      "14/14 [==============================] - 3s 214ms/step - loss: 8.6159e-04 - val_loss: 0.0850\n",
      "Epoch 66/100\n",
      "14/14 [==============================] - 3s 199ms/step - loss: 7.6511e-04 - val_loss: 0.0790\n",
      "Epoch 67/100\n",
      "14/14 [==============================] - 3s 200ms/step - loss: 7.8731e-04 - val_loss: 0.0832\n",
      "Epoch 68/100\n",
      "14/14 [==============================] - 3s 199ms/step - loss: 8.1914e-04 - val_loss: 0.0839\n",
      "Epoch 69/100\n",
      "14/14 [==============================] - 3s 200ms/step - loss: 8.3072e-04 - val_loss: 0.0845\n",
      "Epoch 70/100\n",
      "14/14 [==============================] - 3s 201ms/step - loss: 6.4868e-04 - val_loss: 0.0822\n",
      "Epoch 71/100\n",
      "14/14 [==============================] - 3s 200ms/step - loss: 7.3332e-04 - val_loss: 0.0942\n",
      "Epoch 72/100\n",
      "14/14 [==============================] - 3s 199ms/step - loss: 8.1660e-04 - val_loss: 0.0825\n",
      "Epoch 73/100\n",
      "14/14 [==============================] - 3s 198ms/step - loss: 6.5022e-04 - val_loss: 0.0817\n",
      "Epoch 74/100\n",
      "14/14 [==============================] - 3s 200ms/step - loss: 5.6061e-04 - val_loss: 0.0815\n",
      "Epoch 75/100\n",
      "14/14 [==============================] - 3s 200ms/step - loss: 5.9575e-04 - val_loss: 0.0821\n",
      "Epoch 76/100\n",
      "14/14 [==============================] - 3s 200ms/step - loss: 5.5955e-04 - val_loss: 0.0818\n",
      "Epoch 77/100\n",
      "14/14 [==============================] - 3s 199ms/step - loss: 5.1030e-04 - val_loss: 0.0814\n",
      "Epoch 78/100\n",
      "14/14 [==============================] - 3s 199ms/step - loss: 5.5025e-04 - val_loss: 0.0791\n",
      "Epoch 79/100\n",
      "14/14 [==============================] - 3s 199ms/step - loss: 7.0837e-04 - val_loss: 0.0817\n",
      "Epoch 80/100\n",
      "14/14 [==============================] - 3s 200ms/step - loss: 4.9340e-04 - val_loss: 0.0814\n",
      "Epoch 81/100\n",
      "14/14 [==============================] - 3s 200ms/step - loss: 4.9158e-04 - val_loss: 0.0853\n",
      "Epoch 82/100\n",
      "14/14 [==============================] - 3s 199ms/step - loss: 6.2037e-04 - val_loss: 0.0834\n",
      "Epoch 83/100\n",
      "14/14 [==============================] - 3s 199ms/step - loss: 4.6642e-04 - val_loss: 0.0817\n",
      "Epoch 84/100\n",
      "14/14 [==============================] - 3s 200ms/step - loss: 4.6721e-04 - val_loss: 0.0877\n",
      "Epoch 85/100\n",
      "14/14 [==============================] - 3s 200ms/step - loss: 5.2347e-04 - val_loss: 0.0844\n",
      "Epoch 86/100\n",
      "14/14 [==============================] - 3s 199ms/step - loss: 4.3206e-04 - val_loss: 0.0815\n",
      "Epoch 87/100\n",
      "14/14 [==============================] - 3s 198ms/step - loss: 4.3650e-04 - val_loss: 0.0826\n",
      "Epoch 88/100\n",
      "14/14 [==============================] - 3s 199ms/step - loss: 4.1480e-04 - val_loss: 0.0790\n",
      "Epoch 89/100\n",
      "14/14 [==============================] - 3s 199ms/step - loss: 6.0379e-04 - val_loss: 0.0840\n",
      "Epoch 90/100\n",
      "14/14 [==============================] - 3s 199ms/step - loss: 3.9652e-04 - val_loss: 0.0847\n",
      "Epoch 91/100\n",
      "14/14 [==============================] - 3s 199ms/step - loss: 4.0019e-04 - val_loss: 0.0840\n",
      "Epoch 92/100\n",
      "14/14 [==============================] - 3s 200ms/step - loss: 4.4802e-04 - val_loss: 0.0825\n",
      "Epoch 93/100\n",
      "14/14 [==============================] - 3s 200ms/step - loss: 5.3256e-04 - val_loss: 0.0851\n",
      "Epoch 94/100\n",
      "14/14 [==============================] - 3s 199ms/step - loss: 3.9259e-04 - val_loss: 0.0821\n",
      "Epoch 95/100\n",
      "14/14 [==============================] - 3s 199ms/step - loss: 4.7953e-04 - val_loss: 0.0827\n",
      "Epoch 96/100\n",
      "14/14 [==============================] - 3s 200ms/step - loss: 3.7636e-04 - val_loss: 0.0831\n",
      "Epoch 97/100\n",
      "14/14 [==============================] - 3s 199ms/step - loss: 3.9126e-04 - val_loss: 0.0839\n",
      "Epoch 98/100\n",
      "14/14 [==============================] - 3s 200ms/step - loss: 4.0942e-04 - val_loss: 0.0870\n",
      "Epoch 99/100\n",
      "14/14 [==============================] - 3s 199ms/step - loss: 3.8126e-04 - val_loss: 0.0911\n",
      "Epoch 100/100\n",
      "14/14 [==============================] - 3s 199ms/step - loss: 5.7227e-04 - val_loss: 0.0865\n"
     ]
    }
   ],
   "source": [
    "model = Sequential()\n",
    "model.add(Conv1D(filters = 32, kernel_size = 8, padding=\"same\", input_shape = (x_train.shape[1], 3), activation = 'relu'))\n",
    "model.add(Conv1D(32, 4, padding=\"same\", activation='relu'))\n",
    "model.add(MaxPooling1D(3))\n",
    "model.add(Conv1D(64, 2, padding=\"same\", activation='relu'))\n",
    "model.add(Conv1D(64, 2, padding=\"same\", activation='relu'))\n",
    "model.add(MaxPooling1D(3))\n",
    "model.add(Conv1D(128, 2, padding=\"same\", activation='relu'))\n",
    "model.add(Conv1D(128, 2, padding=\"same\", activation='relu'))\n",
    "model.add(MaxPooling1D(3))\n",
    "model.add(Flatten())\n",
    "model.add(Dense(100, activation='sigmoid'))\n",
    "model.add(Dense(1, activation='sigmoid'))\n",
    "model.compile(optimizer='sgd', loss='mse')\n",
    "\n",
    "model.summary()\n",
    "learning = model.fit(x_train, y_train, epochs=100, validation_data = (x_test,y_test))\n",
    "#Conv1Dを２層にする、\n",
    "#Conv filters ->上位に行くにつれてふやす\n",
    "#CNN stride"
   ]
  },
  {
   "cell_type": "code",
   "execution_count": 10,
   "metadata": {},
   "outputs": [],
   "source": [
    "\n",
    "\n",
    "#model.save('my_model.h5')\n",
    "#model.save_weights('my_model_weights.h5')\n",
    "\n",
    "#np.savez('my_model_data', x_train=x_train, y_train=y_train, x_test=x_test, y_test=y_test)"
   ]
  },
  {
   "cell_type": "code",
   "execution_count": 38,
   "metadata": {},
   "outputs": [
    {
     "name": "stdout",
     "output_type": "stream",
     "text": [
      "試行回数1.0\n"
     ]
    }
   ],
   "source": [
    "\n",
    "for k in range(21):\n",
    "    error += [[shuffle_index[30+k], result[k],result[k]-y_test[k]]]\n",
    "\n",
    "#print(error)\n",
    "print('試行回数' + str(len(error)/21))"
   ]
  },
  {
   "cell_type": "code",
   "execution_count": 39,
   "metadata": {},
   "outputs": [
    {
     "name": "stdout",
     "output_type": "stream",
     "text": [
      "[0.41822507 0.29226541 0.         0.         0.         0.\n",
      " 0.00657519 0.0718873  0.00961694 0.         0.         0.\n",
      " 0.19053729 0.08707371 0.         0.         0.         0.\n",
      " 0.06517321 0.         0.         0.         0.24607407 0.\n",
      " 0.         0.16569684 0.         0.         0.         0.\n",
      " 0.237511   0.         0.07248512 0.         0.         0.\n",
      " 0.         0.22481957 0.         0.17637526 0.         0.1425626\n",
      " 0.01928848 0.         0.         0.29958401 0.         0.01544806\n",
      " 0.08905604 0.18132807 0.11078771]\n"
     ]
    }
   ],
   "source": [
    "def ave_error(error, total = 51):\n",
    "    count = np.zeros(total)\n",
    "    sum_e = np.zeros(total)\n",
    "    for [num, value, er] in error:\n",
    "        count[num] += 1\n",
    "        sum_e[num] += abs(er)\n",
    "    for k in range(total):\n",
    "        if count[k] != 0:\n",
    "            count[k] = sum_e[k] / count[k]\n",
    "            \n",
    "    return count,sum_e\n",
    "\n",
    "ave, sum_e = ave_error(error)\n",
    "print(ave)\n",
    "storage = error[:]\n",
    "#print(y_train_before)"
   ]
  },
  {
   "cell_type": "code",
   "execution_count": null,
   "metadata": {},
   "outputs": [],
   "source": [
    "np.savetxt('data/average.csv', ave, delimiter=\",\")\n",
    "print(type(covlist[0]))\n",
    "    \n",
    "with open('data/cov.csv', 'w') as j:\n",
    "    writer = csv.writer(j)\n",
    "    writer.writerows(covlist)"
   ]
  },
  {
   "cell_type": "code",
   "execution_count": 47,
   "metadata": {
    "scrolled": true
   },
   "outputs": [
    {
     "data": {
      "image/png": "[encoded data removed]",
      "text/plain": [
       "<Figure size 432x288 with 1 Axes>"
      ]
     },
     "metadata": {
      "needs_background": "light"
     },
     "output_type": "display_data"
    },
    {
     "name": "stdout",
     "output_type": "stream",
     "text": [
      "-0.32826151057732406\n"
     ]
    }
   ],
   "source": [
    "result = model.predict(x_test).flatten()\n",
    "#plt.scatter(result[:3], y_test[:3], c ='red')\n",
    "#plt.scatter(result[3:6], y_test[3:6], c='yellow')\n",
    "#plt.scatter(result[6:9], y_test[6:9], c='blue')\n",
    "#plt.scatter(result[9:12], y_test[9:12], c='green')\n",
    "#plt.scatter(result[12:15], y_test[12:15], c='black')\n",
    "#plt.scatter(result[15:18], y_test[15:18], c='orange')\n",
    "#plt.scatter(result[18:], y_test[18:], c='grey')\n",
    "plt.scatter(result, y_test, c='red')\n",
    "plt.xlabel('predict')\n",
    "plt.ylabel('y_test')\n",
    "plt.show()\n",
    "cov = np.corrcoef(result, y_test)\n",
    "print(cov[0][1])\n",
    "covlist += [cov[0][1]]"
   ]
  },
  {
   "cell_type": "code",
   "execution_count": 36,
   "metadata": {},
   "outputs": [
    {
     "data": {
      "image/png": "[encoded data removed]",
      "text/plain": [
       "<Figure size 432x288 with 1 Axes>"
      ]
     },
     "metadata": {
      "needs_background": "light"
     },
     "output_type": "display_data"
    },
    {
     "name": "stdout",
     "output_type": "stream",
     "text": [
      "[[1.         0.99727278]\n",
      " [0.99727278 1.        ]]\n"
     ]
    }
   ],
   "source": [
    "\n",
    "tresult = model.predict(x_train).flatten()\n",
    "plt.scatter(tresult, y_train)\n",
    "plt.show()\n",
    "print(np.corrcoef(tresult, y_train))"
   ]
  },
  {
   "cell_type": "code",
   "execution_count": 37,
   "metadata": {},
   "outputs": [
    {
     "data": {
      "image/png": "[encoded data removed]",
      "text/plain": [
       "<Figure size 432x288 with 1 Axes>"
      ]
     },
     "metadata": {
      "needs_background": "light"
     },
     "output_type": "display_data"
    }
   ],
   "source": [
    "plt.plot(range(1, 401), learning.history['loss'], label=\"training\")\n",
    "plt.plot(range(1, 401), learning.history['val_loss'], label=\"validation\")\n",
    "plt.xlabel('Epochs')\n",
    "plt.ylabel('loss')\n",
    "plt.legend()\n",
    "plt.show()\n"
   ]
  },
  {
   "cell_type": "code",
   "execution_count": null,
   "metadata": {},
   "outputs": [],
   "source": []
  }
 ],
 "metadata": {
  "kernelspec": {
   "display_name": "Python3-Keras",
   "language": "python",
   "name": "py37"
  },
  "language_info": {
   "codemirror_mode": {
    "name": "ipython",
    "version": 3
   },
   "file_extension": ".py",
   "mimetype": "text/x-python",
   "name": "python",
   "nbconvert_exporter": "python",
   "pygments_lexer": "ipython3",
   "version": "3.7.8"
  }
 },
 "nbformat": 4,
 "nbformat_minor": 4
}
