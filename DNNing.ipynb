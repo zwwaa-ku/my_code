{
 "cells": [
  {
   "cell_type": "code",
   "execution_count": 1,
   "metadata": {},
   "outputs": [],
   "source": [
    "import numpy as np\n",
    "import random\n",
    "from keras.models import Sequential\n",
    "from keras.layers import Dense, Activation, Flatten, Conv1D, MaxPooling1D, BatchNormalization, GlobalAveragePooling2D\n",
    "from keras.utils import to_categorical\n",
    "import pandas as pd\n",
    "import sys\n",
    "import os\n",
    "import matplotlib.pyplot as plt\n",
    "%matplotlib inline\n",
    "import itertools\n",
    "import csv\n",
    "import keras.backend as K\n",
    "from keras.layers.core import Lambda\n",
    "import tensorflow as tf\n",
    "import keras\n",
    "import cv2"
   ]
  },
  {
   "cell_type": "code",
   "execution_count": 2,
   "metadata": {},
   "outputs": [],
   "source": [
    "def load_y_data(inputPath='Personality.xlsx'):\n",
    "    #return nparray: list['Neuroticism (t score)','Extraversion',\n",
    "    #     'Openness','Agreeableness','Conscienciousness']*'num of people'\n",
    "    print('[INFO] loading Personality Data, Path: '+ inputPath)\n",
    "    personality_in1 = pd.read_excel(inputPath)\n",
    "    personality = personality_in1.drop([0])\n",
    "    list_personality = personality[['Neuroticism (t score)','Extraversion (t score)',\\\n",
    "             'Openness (t score)','Agreeableness (t score)','Conscienciousness (t score)']].values.tolist()\n",
    "    nparray_personality = np.array(list_personality)\n",
    "    return nparray_personality\n",
    "\n",
    "def load_x_data(inputPath):\n",
    "    print('[INFO] loading Acc Data, Path: '+ inputPath)\n",
    "    x_data = []\n",
    "    for u in range(2,53):\n",
    "        acc = pd.read_csv(os.path.join(inputPath,f'{u}','ACC.csv'))\n",
    "        #acc[0:1]はHzを表しているので除く\n",
    "        x_data += [acc[1:]]\n",
    "    #返り値：list、中がDataFrame\n",
    "    return x_data\n",
    "\n",
    "def split_data(data, size):\n",
    "    return_list = []\n",
    "    block_num = len(data) // size\n",
    "    for k in range(0,block_num):\n",
    "        return_list += [np.array(data[k*size:(k+1)*size])]\n",
    "    #返り値：nparray\n",
    "    return np.array(return_list)\n",
    "\n",
    "def mk_data(x, y, size = 10000, number = 3, lock = 1):\n",
    "    #x,y -> load_x_data,load_y_data\n",
    "    xlist = []\n",
    "    ylist = []\n",
    "    for k in range(0,len(x)):\n",
    "        if len(x[k]) < size * number:\n",
    "            print('ValueError: x[k] must be more than size*number')\n",
    "            break\n",
    "        splited = split_data(x[k], size)\n",
    "        index = list(itertools.permutations(range(splited.shape[0]), number))\n",
    "        random.shuffle(index)\n",
    "        upper = lock\n",
    "        #print(upper)\n",
    "        for l in index[:upper]:\n",
    "            onedata = splited[list(l)]\n",
    "            xlist += [onedata.reshape(size*number,3)]\n",
    "            ylist += [y[k]]\n",
    "    re_x = np.array(xlist)\n",
    "    re_y = np.array(ylist)\n",
    "    return re_x, re_y\n",
    "\n",
    "def data_shuffle(x_b, y_b):\n",
    "    x_list = []\n",
    "#    index = np.random.permutation(len(x_b))\n",
    "    index =[29,43,7,24,26,40,12,47,20,16,49,14,41,15,48,10,19,42,13,1,6,8,4,25,23,35,34,2,21,0,31,46,32,30,18,17,45,36,37,50,11,3,38,9,5,39,44,33,22,28,27]\n",
    "    for i in index:\n",
    "        x_list += [x_b[i]]\n",
    "    y_b = y_b[index]\n",
    "    return x_list, y_b, index"
   ]
  },
  {
   "cell_type": "code",
   "execution_count": 3,
   "metadata": {},
   "outputs": [
    {
     "name": "stdout",
     "output_type": "stream",
     "text": [
      "[INFO] loading Personality Data, Path: ../Personality.xlsx\n",
      "[INFO] loading Acc Data, Path: ../E4wristband\n",
      "(51,)\n"
     ]
    }
   ],
   "source": [
    "covlist = []\n",
    "error = []\n",
    "traindata_size = 100000\n",
    "\n",
    "personality = load_y_data('../Personality.xlsx')\n",
    "\n",
    "# t-scoreを０−１に落とす、平均０.５\n",
    "max_values = (np.abs(personality[:, 0] - 50)).max()\n",
    "y_train_before = (personality[:, 0] - 50)/(2*max_values) + 0.5\n",
    "\n",
    "x_train_before = load_x_data('../E4wristband')\n",
    "\n",
    "print(y_train_before.shape)\n"
   ]
  },
  {
   "cell_type": "code",
   "execution_count": 4,
   "metadata": {},
   "outputs": [],
   "source": [
    "#user 51,44,42,41,34,28,9の削除がしたい\n",
    "#del x_train_before[49]\n",
    "#del x_train_before[42]\n",
    "#del x_train_before[40]\n",
    "#del x_train_before[39]\n",
    "#del x_train_before[32]\n",
    "#del x_train_before[26]\n",
    "#del x_train_before[7]\n",
    "#y_train_before = np.delete(y_train_before, [49,42,40,39,32,26,7], 0)"
   ]
  },
  {
   "cell_type": "code",
   "execution_count": 20,
   "metadata": {},
   "outputs": [],
   "source": [
    "\n",
    "x_train_before, y_train_before, shuffle_index = data_shuffle(x_train_before, y_train_before)\n"
   ]
  },
  {
   "cell_type": "code",
   "execution_count": 21,
   "metadata": {},
   "outputs": [
    {
     "name": "stdout",
     "output_type": "stream",
     "text": [
      "(900, 100000, 3)\n",
      "(900,)\n",
      "(21, 100000, 3)\n",
      "(21,)\n"
     ]
    }
   ],
   "source": [
    "\n",
    "# print(len(x_train_before))\n",
    "split_use_num = 5\n",
    "split = int(traindata_size/split_use_num)\n",
    "if traindata_size%split_use_num != 0:\n",
    "    print('split_use_num was individabl')\n",
    "x_train,y_train = mk_data(x_train_before[:30], y_train_before[:30], split, split_use_num, 30)\n",
    "x_test, y_test = mk_data(x_train_before[30:], y_train_before[30:], traindata_size, 1, 1)\n",
    "print(x_train.shape)\n",
    "print(y_train.shape)\n",
    "print(x_test.shape)\n",
    "print(y_test.shape)"
   ]
  },
  {
   "cell_type": "code",
   "execution_count": 22,
   "metadata": {
    "scrolled": true
   },
   "outputs": [
    {
     "name": "stdout",
     "output_type": "stream",
     "text": [
      "Model: \"sequential_6\"\n",
      "_________________________________________________________________\n",
      "Layer (type)                 Output Shape              Param #   \n",
      "=================================================================\n",
      "conv1d_36 (Conv1D)           (None, 100000, 32)        800       \n",
      "_________________________________________________________________\n",
      "conv1d_37 (Conv1D)           (None, 100000, 32)        4128      \n",
      "_________________________________________________________________\n",
      "max_pooling1d_18 (MaxPooling (None, 33333, 32)         0         \n",
      "_________________________________________________________________\n",
      "conv1d_38 (Conv1D)           (None, 33333, 64)         4160      \n",
      "_________________________________________________________________\n",
      "conv1d_39 (Conv1D)           (None, 33333, 64)         8256      \n",
      "_________________________________________________________________\n",
      "max_pooling1d_19 (MaxPooling (None, 11111, 64)         0         \n",
      "_________________________________________________________________\n",
      "conv1d_40 (Conv1D)           (None, 11111, 128)        16512     \n",
      "_________________________________________________________________\n",
      "conv1d_41 (Conv1D)           (None, 11111, 128)        32896     \n",
      "_________________________________________________________________\n",
      "max_pooling1d_20 (MaxPooling (None, 3703, 128)         0         \n",
      "_________________________________________________________________\n",
      "flatten_6 (Flatten)          (None, 473984)            0         \n",
      "_________________________________________________________________\n",
      "dense_12 (Dense)             (None, 100)               47398500  \n",
      "_________________________________________________________________\n",
      "dense_13 (Dense)             (None, 1)                 101       \n",
      "=================================================================\n",
      "Total params: 47,465,353\n",
      "Trainable params: 47,465,353\n",
      "Non-trainable params: 0\n",
      "_________________________________________________________________\n",
      "Epoch 1/100\n",
      "29/29 [==============================] - 6s 217ms/step - loss: 0.0537 - val_loss: 0.0216\n",
      "Epoch 2/100\n",
      "29/29 [==============================] - 6s 213ms/step - loss: 0.0394 - val_loss: 0.0419\n",
      "Epoch 3/100\n",
      "29/29 [==============================] - 6s 213ms/step - loss: 0.0380 - val_loss: 0.0286\n",
      "Epoch 4/100\n",
      "29/29 [==============================] - 6s 212ms/step - loss: 0.0378 - val_loss: 0.0486\n",
      "Epoch 5/100\n",
      "29/29 [==============================] - 6s 213ms/step - loss: 0.0385 - val_loss: 0.0507\n",
      "Epoch 6/100\n",
      "29/29 [==============================] - 6s 213ms/step - loss: 0.0349 - val_loss: 0.0225\n",
      "Epoch 7/100\n",
      "29/29 [==============================] - 6s 213ms/step - loss: 0.0329 - val_loss: 0.0202\n",
      "Epoch 8/100\n",
      "29/29 [==============================] - 6s 213ms/step - loss: 0.0308 - val_loss: 0.0481\n",
      "Epoch 9/100\n",
      "29/29 [==============================] - 6s 213ms/step - loss: 0.0291 - val_loss: 0.0166\n",
      "Epoch 10/100\n",
      "29/29 [==============================] - 6s 213ms/step - loss: 0.0255 - val_loss: 0.0160\n",
      "Epoch 11/100\n",
      "29/29 [==============================] - 6s 213ms/step - loss: 0.0232 - val_loss: 0.0347\n",
      "Epoch 12/100\n",
      "29/29 [==============================] - 6s 212ms/step - loss: 0.0207 - val_loss: 0.0466\n",
      "Epoch 13/100\n",
      "29/29 [==============================] - 6s 213ms/step - loss: 0.0184 - val_loss: 0.0134\n",
      "Epoch 14/100\n",
      "29/29 [==============================] - 6s 213ms/step - loss: 0.0156 - val_loss: 0.0160\n",
      "Epoch 15/100\n",
      "29/29 [==============================] - 6s 213ms/step - loss: 0.0122 - val_loss: 0.0175\n",
      "Epoch 16/100\n",
      "29/29 [==============================] - 6s 211ms/step - loss: 0.0082 - val_loss: 0.0142\n",
      "Epoch 17/100\n",
      "29/29 [==============================] - 6s 213ms/step - loss: 0.0087 - val_loss: 0.0359\n",
      "Epoch 18/100\n",
      "29/29 [==============================] - 6s 213ms/step - loss: 0.0064 - val_loss: 0.0320\n",
      "Epoch 19/100\n",
      "29/29 [==============================] - 6s 212ms/step - loss: 0.0051 - val_loss: 0.0142\n",
      "Epoch 20/100\n",
      "29/29 [==============================] - 6s 213ms/step - loss: 0.0042 - val_loss: 0.0112\n",
      "Epoch 21/100\n",
      "29/29 [==============================] - 6s 213ms/step - loss: 0.0035 - val_loss: 0.0120\n",
      "Epoch 22/100\n",
      "29/29 [==============================] - 6s 213ms/step - loss: 0.0035 - val_loss: 0.0149\n",
      "Epoch 23/100\n",
      "29/29 [==============================] - 6s 213ms/step - loss: 0.0028 - val_loss: 0.0184\n",
      "Epoch 24/100\n",
      "29/29 [==============================] - 6s 214ms/step - loss: 0.0024 - val_loss: 0.0131\n",
      "Epoch 25/100\n",
      "29/29 [==============================] - 6s 213ms/step - loss: 0.0022 - val_loss: 0.0145\n",
      "Epoch 26/100\n",
      "29/29 [==============================] - 6s 212ms/step - loss: 0.0023 - val_loss: 0.0187\n",
      "Epoch 27/100\n",
      "29/29 [==============================] - 6s 214ms/step - loss: 0.0021 - val_loss: 0.0122\n",
      "Epoch 28/100\n",
      "29/29 [==============================] - 6s 215ms/step - loss: 0.0017 - val_loss: 0.0113\n",
      "Epoch 29/100\n",
      "29/29 [==============================] - 6s 213ms/step - loss: 0.0018 - val_loss: 0.0119\n",
      "Epoch 30/100\n",
      "29/29 [==============================] - 6s 214ms/step - loss: 0.0014 - val_loss: 0.0115\n",
      "Epoch 31/100\n",
      "29/29 [==============================] - 6s 213ms/step - loss: 0.0013 - val_loss: 0.0114\n",
      "Epoch 32/100\n",
      "29/29 [==============================] - 6s 213ms/step - loss: 0.0012 - val_loss: 0.0154\n",
      "Epoch 33/100\n",
      "29/29 [==============================] - 6s 212ms/step - loss: 0.0012 - val_loss: 0.0120\n",
      "Epoch 34/100\n",
      "29/29 [==============================] - 6s 213ms/step - loss: 0.0011 - val_loss: 0.0114\n",
      "Epoch 35/100\n",
      "29/29 [==============================] - 6s 213ms/step - loss: 8.8154e-04 - val_loss: 0.0109\n",
      "Epoch 36/100\n",
      "29/29 [==============================] - 6s 214ms/step - loss: 0.0011 - val_loss: 0.0134\n",
      "Epoch 37/100\n",
      "29/29 [==============================] - 6s 212ms/step - loss: 8.9585e-04 - val_loss: 0.0112\n",
      "Epoch 38/100\n",
      "29/29 [==============================] - 6s 213ms/step - loss: 7.7490e-04 - val_loss: 0.0128\n",
      "Epoch 39/100\n",
      "29/29 [==============================] - 6s 214ms/step - loss: 7.7296e-04 - val_loss: 0.0152\n",
      "Epoch 40/100\n",
      "29/29 [==============================] - 6s 214ms/step - loss: 6.8030e-04 - val_loss: 0.0107\n",
      "Epoch 41/100\n",
      "29/29 [==============================] - 6s 214ms/step - loss: 7.1229e-04 - val_loss: 0.0107\n",
      "Epoch 42/100\n",
      "29/29 [==============================] - 6s 212ms/step - loss: 6.5466e-04 - val_loss: 0.0143\n",
      "Epoch 43/100\n",
      "29/29 [==============================] - 6s 211ms/step - loss: 6.5667e-04 - val_loss: 0.0114\n",
      "Epoch 44/100\n",
      "29/29 [==============================] - 6s 214ms/step - loss: 6.0463e-04 - val_loss: 0.0133\n",
      "Epoch 45/100\n",
      "29/29 [==============================] - 6s 213ms/step - loss: 5.6907e-04 - val_loss: 0.0134\n",
      "Epoch 46/100\n",
      "29/29 [==============================] - 6s 213ms/step - loss: 5.4203e-04 - val_loss: 0.0115\n",
      "Epoch 47/100\n",
      "29/29 [==============================] - 6s 214ms/step - loss: 5.6050e-04 - val_loss: 0.0117\n",
      "Epoch 48/100\n",
      "29/29 [==============================] - 6s 213ms/step - loss: 4.6938e-04 - val_loss: 0.0107\n",
      "Epoch 49/100\n",
      "29/29 [==============================] - 6s 213ms/step - loss: 4.6554e-04 - val_loss: 0.0108\n",
      "Epoch 50/100\n",
      "29/29 [==============================] - 6s 214ms/step - loss: 4.8554e-04 - val_loss: 0.0117\n",
      "Epoch 51/100\n",
      "29/29 [==============================] - 6s 212ms/step - loss: 5.0786e-04 - val_loss: 0.0141\n",
      "Epoch 52/100\n",
      "29/29 [==============================] - 6s 213ms/step - loss: 4.1657e-04 - val_loss: 0.0109\n",
      "Epoch 53/100\n",
      "29/29 [==============================] - 6s 213ms/step - loss: 4.5032e-04 - val_loss: 0.0124\n",
      "Epoch 54/100\n",
      "29/29 [==============================] - 6s 214ms/step - loss: 4.2734e-04 - val_loss: 0.0134\n",
      "Epoch 55/100\n",
      "29/29 [==============================] - 6s 213ms/step - loss: 3.5153e-04 - val_loss: 0.0106\n",
      "Epoch 56/100\n",
      "29/29 [==============================] - 6s 213ms/step - loss: 3.8198e-04 - val_loss: 0.0148\n",
      "Epoch 57/100\n",
      "29/29 [==============================] - 6s 215ms/step - loss: 3.7730e-04 - val_loss: 0.0137\n",
      "Epoch 58/100\n",
      "29/29 [==============================] - 6s 213ms/step - loss: 3.7129e-04 - val_loss: 0.0126\n",
      "Epoch 59/100\n",
      "29/29 [==============================] - 6s 213ms/step - loss: 3.4881e-04 - val_loss: 0.0106\n",
      "Epoch 60/100\n",
      "29/29 [==============================] - 6s 213ms/step - loss: 3.2145e-04 - val_loss: 0.0120\n",
      "Epoch 61/100\n",
      "29/29 [==============================] - 6s 213ms/step - loss: 2.9590e-04 - val_loss: 0.0126\n",
      "Epoch 62/100\n",
      "29/29 [==============================] - 6s 213ms/step - loss: 2.8119e-04 - val_loss: 0.0129\n",
      "Epoch 63/100\n",
      "29/29 [==============================] - 6s 214ms/step - loss: 3.2512e-04 - val_loss: 0.0141\n",
      "Epoch 64/100\n",
      "29/29 [==============================] - 6s 213ms/step - loss: 2.9292e-04 - val_loss: 0.0119\n",
      "Epoch 65/100\n",
      "29/29 [==============================] - 6s 213ms/step - loss: 2.9123e-04 - val_loss: 0.0164\n",
      "Epoch 66/100\n",
      "29/29 [==============================] - 6s 212ms/step - loss: 3.1827e-04 - val_loss: 0.0152\n",
      "Epoch 67/100\n",
      "29/29 [==============================] - 6s 214ms/step - loss: 2.8355e-04 - val_loss: 0.0128\n",
      "Epoch 68/100\n",
      "29/29 [==============================] - 6s 214ms/step - loss: 2.3128e-04 - val_loss: 0.0128\n",
      "Epoch 69/100\n",
      "29/29 [==============================] - 6s 214ms/step - loss: 2.6511e-04 - val_loss: 0.0127\n",
      "Epoch 70/100\n",
      "29/29 [==============================] - 6s 213ms/step - loss: 2.3707e-04 - val_loss: 0.0143\n",
      "Epoch 71/100\n",
      "29/29 [==============================] - 6s 213ms/step - loss: 2.3660e-04 - val_loss: 0.0122\n",
      "Epoch 72/100\n",
      "29/29 [==============================] - 6s 213ms/step - loss: 2.1570e-04 - val_loss: 0.0115\n",
      "Epoch 73/100\n",
      "29/29 [==============================] - 6s 215ms/step - loss: 2.0834e-04 - val_loss: 0.0114\n",
      "Epoch 74/100\n",
      "29/29 [==============================] - 6s 213ms/step - loss: 2.5742e-04 - val_loss: 0.0126\n",
      "Epoch 75/100\n",
      "29/29 [==============================] - 6s 214ms/step - loss: 2.1079e-04 - val_loss: 0.0136\n",
      "Epoch 76/100\n",
      "29/29 [==============================] - 6s 212ms/step - loss: 2.0191e-04 - val_loss: 0.0141\n",
      "Epoch 77/100\n",
      "29/29 [==============================] - 6s 213ms/step - loss: 2.0982e-04 - val_loss: 0.0130\n",
      "Epoch 78/100\n",
      "29/29 [==============================] - 6s 213ms/step - loss: 2.0100e-04 - val_loss: 0.0125\n",
      "Epoch 79/100\n",
      "29/29 [==============================] - 6s 214ms/step - loss: 1.9194e-04 - val_loss: 0.0146\n",
      "Epoch 80/100\n",
      "29/29 [==============================] - 6s 214ms/step - loss: 2.2653e-04 - val_loss: 0.0120\n",
      "Epoch 81/100\n",
      "29/29 [==============================] - 6s 214ms/step - loss: 1.8657e-04 - val_loss: 0.0121\n",
      "Epoch 82/100\n",
      "29/29 [==============================] - 6s 213ms/step - loss: 1.8303e-04 - val_loss: 0.0129\n",
      "Epoch 83/100\n",
      "29/29 [==============================] - 6s 214ms/step - loss: 2.0001e-04 - val_loss: 0.0139\n",
      "Epoch 84/100\n",
      "29/29 [==============================] - 6s 213ms/step - loss: 1.8349e-04 - val_loss: 0.0129\n",
      "Epoch 85/100\n",
      "29/29 [==============================] - 6s 214ms/step - loss: 1.7834e-04 - val_loss: 0.0123\n",
      "Epoch 86/100\n",
      "29/29 [==============================] - 6s 213ms/step - loss: 1.7489e-04 - val_loss: 0.0130\n",
      "Epoch 87/100\n",
      "29/29 [==============================] - 6s 213ms/step - loss: 1.6935e-04 - val_loss: 0.0117\n",
      "Epoch 88/100\n",
      "29/29 [==============================] - 6s 214ms/step - loss: 1.7644e-04 - val_loss: 0.0151\n",
      "Epoch 89/100\n",
      "29/29 [==============================] - 6s 214ms/step - loss: 2.0316e-04 - val_loss: 0.0119\n",
      "Epoch 90/100\n",
      "29/29 [==============================] - 6s 212ms/step - loss: 1.6721e-04 - val_loss: 0.0137\n",
      "Epoch 91/100\n",
      "29/29 [==============================] - 6s 214ms/step - loss: 1.6252e-04 - val_loss: 0.0126\n",
      "Epoch 92/100\n",
      "29/29 [==============================] - 6s 213ms/step - loss: 1.5700e-04 - val_loss: 0.0135\n",
      "Epoch 93/100\n",
      "29/29 [==============================] - 6s 213ms/step - loss: 1.5726e-04 - val_loss: 0.0120\n",
      "Epoch 94/100\n",
      "29/29 [==============================] - 6s 214ms/step - loss: 1.5573e-04 - val_loss: 0.0129\n",
      "Epoch 95/100\n",
      "29/29 [==============================] - 6s 213ms/step - loss: 1.6126e-04 - val_loss: 0.0123\n",
      "Epoch 96/100\n",
      "29/29 [==============================] - 6s 214ms/step - loss: 1.5089e-04 - val_loss: 0.0126\n",
      "Epoch 97/100\n",
      "29/29 [==============================] - 6s 211ms/step - loss: 1.5376e-04 - val_loss: 0.0141\n",
      "Epoch 98/100\n",
      "29/29 [==============================] - 6s 215ms/step - loss: 1.8653e-04 - val_loss: 0.0122\n",
      "Epoch 99/100\n",
      "29/29 [==============================] - 6s 213ms/step - loss: 1.5251e-04 - val_loss: 0.0123\n",
      "Epoch 100/100\n",
      "29/29 [==============================] - 6s 212ms/step - loss: 1.4973e-04 - val_loss: 0.0122\n"
     ]
    }
   ],
   "source": [
    "model = Sequential()\n",
    "model.add(Conv1D(filters = 32, kernel_size = 8, padding=\"same\", input_shape = (x_train.shape[1], 3), activation = 'relu'))\n",
    "model.add(Conv1D(32, 4, padding=\"same\", activation='relu'))\n",
    "model.add(MaxPooling1D(3))\n",
    "model.add(Conv1D(64, 2, padding=\"same\", activation='relu'))\n",
    "model.add(Conv1D(64, 2, padding=\"same\", activation='relu'))\n",
    "model.add(MaxPooling1D(3))\n",
    "model.add(Conv1D(128, 2, padding=\"same\", activation='relu'))\n",
    "model.add(Conv1D(128, 2, padding=\"same\", activation='relu'))\n",
    "model.add(MaxPooling1D(3))\n",
    "model.add(Flatten())\n",
    "model.add(Dense(100, activation='sigmoid'))\n",
    "model.add(Dense(1, activation='sigmoid'))\n",
    "model.compile(optimizer='sgd', loss='mse')\n",
    "\n",
    "model.summary()\n",
    "learning = model.fit(x_train, y_train, epochs=100, validation_data = (x_test,y_test))\n",
    "#Conv1Dを２層にする、\n",
    "#Conv filters ->上位に行くにつれてふやす\n",
    "#CNN stride"
   ]
  },
  {
   "cell_type": "code",
   "execution_count": 23,
   "metadata": {},
   "outputs": [
    {
     "data": {
      "image/png": "[encoded data removed]",
      "text/plain": [
       "<Figure size 432x288 with 1 Axes>"
      ]
     },
     "metadata": {
      "needs_background": "light"
     },
     "output_type": "display_data"
    },
    {
     "name": "stdout",
     "output_type": "stream",
     "text": [
      "0.7106053108683217\n"
     ]
    }
   ],
   "source": [
    "result = model.predict(x_test).flatten()\n",
    "plt.scatter(result[:3], y_test[:3], c ='red')\n",
    "plt.scatter(result[3:6], y_test[3:6], c='yellow')\n",
    "plt.scatter(result[6:9], y_test[6:9], c='blue')\n",
    "plt.scatter(result[9:12], y_test[9:12], c='green')\n",
    "plt.scatter(result[12:15], y_test[12:15], c='black')\n",
    "plt.scatter(result[15:18], y_test[15:18], c='orange')\n",
    "plt.scatter(result[18:], y_test[18:], c='grey')\n",
    "\n",
    "plt.xlabel('predict')\n",
    "plt.ylabel('y_test')\n",
    "plt.show()\n",
    "cov = np.corrcoef(result, y_test)\n",
    "print(cov[0][1])\n",
    "covlist += [cov[0][1]]"
   ]
  },
  {
   "cell_type": "code",
   "execution_count": 25,
   "metadata": {},
   "outputs": [
    {
     "data": {
      "image/png": "[encoded data removed]",
      "text/plain": [
       "<Figure size 432x288 with 1 Axes>"
      ]
     },
     "metadata": {
      "needs_background": "light"
     },
     "output_type": "display_data"
    },
    {
     "data": {
      "image/png": "[encoded data removed]",
      "text/plain": [
       "<Figure size 432x288 with 1 Axes>"
      ]
     },
     "metadata": {
      "needs_background": "light"
     },
     "output_type": "display_data"
    }
   ],
   "source": [
    "\n",
    "def target_category_loss(x, category_index, nb_classes):\n",
    "    error_loss = tf.subtract(x, nb_classes)\n",
    "    return tf.square(error_loss)\n",
    "\n",
    "def target_category_loss_output_shape(input_shape):\n",
    "    return input_shape\n",
    "\n",
    "def normalize(x):\n",
    "    # utility function to normalize a tensor by its L2 norm\n",
    "    return x / (K.sqrt(K.mean(K.square(x))) + 1e-5)\n",
    "\n",
    "def grad_cam(input_model, value, real_value,layer_name):\n",
    "    \n",
    "    target_layer = lambda x: target_category_loss(x, value, real_value)\n",
    "\n",
    "    x = input_model.layers[-1].output\n",
    "    x = Lambda(target_layer, output_shape=target_category_loss_output_shape)(x)\n",
    "    model = keras.models.Model(input_model.layers[0].input, x)\n",
    "\n",
    "    loss = K.sum(model.layers[-1].output)\n",
    "    conv_output = [l for l in model.layers if l.name == layer_name][0].output\n",
    "    \n",
    "    g = tf.Graph()\n",
    "    with g.as_default():\n",
    "        grads = tf.gradients(loss, conv_output)[0]\n",
    "    gradient_function = K.function([model.layers[0].input], [conv_output, grads])\n",
    "    #output.shape=(1,*,128)\n",
    "    output, grads_val = gradient_function([value])\n",
    "    output, grads_val = output[0, :, :], grads_val[0, :, :]\n",
    "    #output.shape=(*,128)\n",
    "    weights = np.mean(grads_val, axis = 0)\n",
    "    cam = np.zeros(output.shape[0], dtype = np.float32)\n",
    "    \n",
    "    for i, w in enumerate(weights):\n",
    "        cam += w * output[:, i]\n",
    "        \n",
    "    cam = cam.reshape([cam.shape[0], 1])\n",
    "    \n",
    "    cam = cv2.resize(cam, (1,traindata_size))\n",
    "    cam = np.maximum(cam, 0)\n",
    "    \n",
    "    heatmap = (cam - np.min(cam))/(np.max(cam) - np.min(cam))\n",
    "    heatmap = heatmap.reshape([cam.shape[0]])\n",
    "    \n",
    "    return heatmap\n",
    "NNN=0\n",
    "predict_data = np.array([x_test[NNN]])\n",
    "predictions = model.predict(predict_data)\n",
    "heatmap = grad_cam(model, predict_data, y_test[NNN], 'conv1d_41')\n",
    "\n",
    "plt.plot(x_test[NNN])\n",
    "plt.show()\n",
    "plt.plot(heatmap)\n",
    "plt.show()"
   ]
  },
  {
   "cell_type": "code",
   "execution_count": 27,
   "metadata": {},
   "outputs": [],
   "source": [
    "\n",
    "\n",
    "model.save('my_model.h5')\n",
    "model.save_weights('my_model_weights.h5')\n",
    "\n",
    "np.savez('my_model_data', x_train=x_train, y_train=y_train, x_test=x_test, y_test=y_test)"
   ]
  },
  {
   "cell_type": "code",
   "execution_count": 7,
   "metadata": {},
   "outputs": [
    {
     "ename": "SyntaxError",
     "evalue": "invalid syntax (<ipython-input-7-3df79ff171eb>, line 8)",
     "output_type": "error",
     "traceback": [
      "\u001b[0;36m  File \u001b[0;32m\"<ipython-input-7-3df79ff171eb>\"\u001b[0;36m, line \u001b[0;32m8\u001b[0m\n\u001b[0;31m    plt.scatter(result_test, npz_kw['x_test'])]\u001b[0m\n\u001b[0m                                              ^\u001b[0m\n\u001b[0;31mSyntaxError\u001b[0m\u001b[0;31m:\u001b[0m invalid syntax\n"
     ]
    }
   ],
   "source": [
    "from keras.models import load_model\n",
    "npz_kw = np.load('../my_model_data.npz')\n",
    "print(npz_kw.files)\n",
    "\n",
    "model_test = load_model('../my_model.h5')\n",
    "result_test = model_test.predict(npz_kw['x_test']).flatten()\n",
    "print(result_test)\n",
    "plt.scatter(result_test, npz_kw['x_test'])]\n",
    "cov = np.corrcoef(result_test, npz_kw['y_test'])\n",
    "print(cov[0][1])"
   ]
  },
  {
   "cell_type": "code",
   "execution_count": 89,
   "metadata": {},
   "outputs": [
    {
     "name": "stdout",
     "output_type": "stream",
     "text": [
      "試行回数1.0\n"
     ]
    }
   ],
   "source": [
    "\n",
    "for k in range(21):\n",
    "    error += [[shuffle_index[30+k], result[k],result[k]-y_test[k]]]\n",
    "\n",
    "#print(error)\n",
    "print('試行回数' + str(len(error)/21))"
   ]
  },
  {
   "cell_type": "code",
   "execution_count": 90,
   "metadata": {},
   "outputs": [
    {
     "name": "stdout",
     "output_type": "stream",
     "text": [
      "[0.13647889 0.10148973 0.12842931 0.         0.34517165 0.\n",
      " 0.         0.         0.         0.         0.         0.13385295\n",
      " 0.         0.27798132 0.16674685 0.14411385 0.         0.\n",
      " 0.         0.         0.         0.03191141 0.         0.18078293\n",
      " 0.         0.         0.         0.         0.42340406 0.\n",
      " 0.183803   0.         0.         0.         0.00052769 0.2007418\n",
      " 0.         0.         0.11245125 0.02787125 0.         0.14719401\n",
      " 0.         0.20833071 0.         0.         0.         0.16452547\n",
      " 0.         0.05251    0.14830109]\n"
     ]
    }
   ],
   "source": [
    "def ave_error(error, total = 51):\n",
    "    count = np.zeros(total)\n",
    "    sum_e = np.zeros(total)\n",
    "    for [num, value, er] in error:\n",
    "        count[num] += 1\n",
    "        sum_e[num] += abs(er)\n",
    "    for k in range(total):\n",
    "        if count[k] != 0:\n",
    "            count[k] = sum_e[k] / count[k]\n",
    "            \n",
    "    return count,sum_e\n",
    "\n",
    "ave, sum_e = ave_error(error)\n",
    "print(ave)\n",
    "storage = error[:]\n",
    "#print(y_train_before)"
   ]
  },
  {
   "cell_type": "code",
   "execution_count": 26,
   "metadata": {},
   "outputs": [
    {
     "data": {
      "image/png": "[encoded data removed]",
      "text/plain": [
       "<Figure size 432x288 with 1 Axes>"
      ]
     },
     "metadata": {
      "needs_background": "light"
     },
     "output_type": "display_data"
    },
    {
     "name": "stdout",
     "output_type": "stream",
     "text": [
      "[[1.         0.93916516]\n",
      " [0.93916516 1.        ]]\n"
     ]
    }
   ],
   "source": [
    "\n",
    "tresult = model.predict(x_train).flatten()\n",
    "plt.scatter(tresult, y_train)\n",
    "plt.show()\n",
    "print(np.corrcoef(tresult, y_train))"
   ]
  },
  {
   "cell_type": "code",
   "execution_count": 28,
   "metadata": {},
   "outputs": [
    {
     "data": {
      "image/png": "[encoded data removed]",
      "text/plain": [
       "<Figure size 432x288 with 1 Axes>"
      ]
     },
     "metadata": {
      "needs_background": "light"
     },
     "output_type": "display_data"
    }
   ],
   "source": [
    "plt.plot(range(1, 25+1), learning.history['loss'], label=\"training\")\n",
    "plt.plot(range(1, 25+1), learning.history['val_loss'], label=\"validation\")\n",
    "plt.xlabel('Epochs')\n",
    "plt.ylabel('loss')\n",
    "plt.legend()\n",
    "plt.show()\n"
   ]
  },
  {
   "cell_type": "code",
   "execution_count": null,
   "metadata": {},
   "outputs": [],
   "source": [
    "np.savetxt('data/average.csv', ave, delimiter=\",\")\n",
    "print(type(covlist[0]))\n",
    "    \n",
    "with open('data/cov.csv', 'w') as j:\n",
    "    writer = csv.writer(j)\n",
    "    writer.writerows(covlist)"
   ]
  }
 ],
 "metadata": {
  "kernelspec": {
   "display_name": "Python3-Keras",
   "language": "python",
   "name": "py37"
  },
  "language_info": {
   "codemirror_mode": {
    "name": "ipython",
    "version": 3
   },
   "file_extension": ".py",
   "mimetype": "text/x-python",
   "name": "python",
   "nbconvert_exporter": "python",
   "pygments_lexer": "ipython3",
   "version": "3.7.8"
  }
 },
 "nbformat": 4,
 "nbformat_minor": 4
}
