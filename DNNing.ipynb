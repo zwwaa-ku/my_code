{
 "cells": [
  {
   "cell_type": "code",
   "execution_count": 2,
   "metadata": {},
   "outputs": [],
   "source": [
    "import numpy as np\n",
    "import random\n",
    "from keras.models import Sequential\n",
    "from keras.layers import Dense, Activation, Flatten, Conv1D, MaxPooling1D, BatchNormalization, GlobalAveragePooling2D\n",
    "from keras.utils import to_categorical\n",
    "import pandas as pd\n",
    "import sys\n",
    "import os\n",
    "import matplotlib.pyplot as plt\n",
    "%matplotlib inline\n",
    "import itertools\n",
    "import csv"
   ]
  },
  {
   "cell_type": "code",
   "execution_count": 3,
   "metadata": {},
   "outputs": [],
   "source": [
    "def load_y_data(inputPath='Personality.xlsx'):\n",
    "    #return nparray: list['Neuroticism (t score)','Extraversion',\n",
    "    #     'Openness','Agreeableness','Conscienciousness']*'num of people'\n",
    "    print('[INFO] loading Personality Data, Path: '+ inputPath)\n",
    "    personality_in1 = pd.read_excel(inputPath)\n",
    "    personality = personality_in1.drop([0])\n",
    "    list_personality = personality[['Neuroticism (t score)','Extraversion (t score)',\\\n",
    "             'Openness (t score)','Agreeableness (t score)','Conscienciousness (t score)']].values.tolist()\n",
    "    nparray_personality = np.array(list_personality)\n",
    "    return nparray_personality\n",
    "\n",
    "def load_x_data(inputPath):\n",
    "    print('[INFO] loading Acc Data, Path: '+ inputPath)\n",
    "    x_data = []\n",
    "    for u in range(2,53):\n",
    "        acc = pd.read_csv(os.path.join(inputPath,f'{u}','ACC.csv'))\n",
    "        #acc[0:1]はHzを表しているので除く\n",
    "        x_data += [acc[1:]]\n",
    "    #返り値：list、中がDataFrame\n",
    "    return x_data\n",
    "\n",
    "def split_data(data, size):\n",
    "    return_list = []\n",
    "    block_num = len(data) // size\n",
    "    for k in range(0,block_num):\n",
    "        return_list += [np.array(data[k*size:(k+1)*size])]\n",
    "    #返り値：nparray\n",
    "    return np.array(return_list)\n",
    "\n",
    "def mk_data(x, y, size = 10000, number = 3, lock = 1):\n",
    "    #x,y -> load_x_data,load_y_data\n",
    "    xlist = []\n",
    "    ylist = []\n",
    "    for k in range(0,len(x)):\n",
    "        if len(x[k]) < size * number:\n",
    "            print('ValueError: x[k] must be more than size*number')\n",
    "            break\n",
    "        splited = split_data(x[k], size)\n",
    "        index = list(itertools.permutations(range(splited.shape[0]), number))\n",
    "        random.shuffle(index)\n",
    "        upper = lock\n",
    "        #print(upper)\n",
    "        for l in index[:upper]:\n",
    "            onedata = splited[list(l)]\n",
    "            xlist += [onedata.reshape(size*number,3)]\n",
    "            ylist += [y[k]]\n",
    "    re_x = np.array(xlist)\n",
    "    re_y = np.array(ylist)\n",
    "    return re_x, re_y\n",
    "\n",
    "def data_shuffle(x_b, y_b):\n",
    "    x_list = []\n",
    "    index = np.random.permutation(len(x_b))\n",
    "    for i in index:\n",
    "        x_list += [x_b[i]]\n",
    "    y_b = y_b[index]\n",
    "    return x_list, y_b, index"
   ]
  },
  {
   "cell_type": "code",
   "execution_count": 4,
   "metadata": {},
   "outputs": [
    {
     "name": "stdout",
     "output_type": "stream",
     "text": [
      "[INFO] loading Personality Data, Path: Personality.xlsx\n",
      "[INFO] loading Acc Data, Path: E4wristband\n",
      "(51,)\n"
     ]
    }
   ],
   "source": [
    "covlist = []\n",
    "error = []\n",
    "\n",
    "personality = load_y_data('Personality.xlsx')\n",
    "\n",
    "# t-scoreを０−１に落とす、平均０.５\n",
    "max_values = (np.abs(personality[:, 0] - 50)).max()\n",
    "y_train_before = (personality[:, 0] - 50)/(2*max_values) + 0.5\n",
    "\n",
    "x_train_before = load_x_data('E4wristband')\n",
    "\n",
    "print(y_train_before.shape)\n"
   ]
  },
  {
   "cell_type": "code",
   "execution_count": 5,
   "metadata": {},
   "outputs": [],
   "source": [
    "#user 51,44,42,41,34,28,9の削除がしたい\n",
    "#del x_train_before[49]\n",
    "#del x_train_before[42]\n",
    "#del x_train_before[40]\n",
    "#del x_train_before[39]\n",
    "#del x_train_before[32]\n",
    "#del x_train_before[26]\n",
    "#del x_train_before[7]\n",
    "#y_train_before = np.delete(y_train_before, [49,42,40,39,32,26,7], 0)"
   ]
  },
  {
   "cell_type": "code",
   "execution_count": 6,
   "metadata": {},
   "outputs": [],
   "source": [
    "\n",
    "x_train_before, y_train_before, shuffle_index = data_shuffle(x_train_before, y_train_before)\n"
   ]
  },
  {
   "cell_type": "code",
   "execution_count": 9,
   "metadata": {},
   "outputs": [
    {
     "name": "stdout",
     "output_type": "stream",
     "text": [
      "(750, 100000, 3)\n",
      "(750,)\n",
      "(21, 100000, 3)\n",
      "(21,)\n"
     ]
    }
   ],
   "source": [
    "\n",
    "# print(len(x_train_before))\n",
    "\n",
    "x_train,y_train = mk_data(x_train_before[:30], y_train_before[:30], 20000, 5, 25)\n",
    "x_test, y_test = mk_data(x_train_before[30:], y_train_before[30:], 100000, 1, 1)\n",
    "print(x_train.shape)\n",
    "print(y_train.shape)\n",
    "print(x_test.shape)\n",
    "print(y_test.shape)"
   ]
  },
  {
   "cell_type": "code",
   "execution_count": 11,
   "metadata": {
    "scrolled": true
   },
   "outputs": [
    {
     "name": "stdout",
     "output_type": "stream",
     "text": [
      "Model: \"sequential_2\"\n",
      "_________________________________________________________________\n",
      "Layer (type)                 Output Shape              Param #   \n",
      "=================================================================\n",
      "conv1d_6 (Conv1D)            (None, 99993, 32)         800       \n",
      "_________________________________________________________________\n",
      "conv1d_7 (Conv1D)            (None, 99990, 32)         4128      \n",
      "_________________________________________________________________\n",
      "max_pooling1d_3 (MaxPooling1 (None, 33330, 32)         0         \n",
      "_________________________________________________________________\n",
      "conv1d_8 (Conv1D)            (None, 33329, 64)         4160      \n",
      "_________________________________________________________________\n",
      "conv1d_9 (Conv1D)            (None, 33328, 64)         8256      \n",
      "_________________________________________________________________\n",
      "max_pooling1d_4 (MaxPooling1 (None, 11109, 64)         0         \n",
      "_________________________________________________________________\n",
      "conv1d_10 (Conv1D)           (None, 11108, 128)        16512     \n",
      "_________________________________________________________________\n",
      "conv1d_11 (Conv1D)           (None, 11107, 128)        32896     \n",
      "_________________________________________________________________\n",
      "max_pooling1d_5 (MaxPooling1 (None, 3702, 128)         0         \n",
      "_________________________________________________________________\n",
      "flatten_1 (Flatten)          (None, 473856)            0         \n",
      "_________________________________________________________________\n",
      "dense_2 (Dense)              (None, 100)               47385700  \n",
      "_________________________________________________________________\n",
      "dense_3 (Dense)              (None, 1)                 101       \n",
      "=================================================================\n",
      "Total params: 47,452,553\n",
      "Trainable params: 47,452,553\n",
      "Non-trainable params: 0\n",
      "_________________________________________________________________\n",
      "Epoch 1/10\n",
      "24/24 [==============================] - 5s 196ms/step - loss: 0.1872 - val_loss: 0.2235\n",
      "Epoch 2/10\n",
      "24/24 [==============================] - 5s 191ms/step - loss: 0.1770 - val_loss: 0.1930\n",
      "Epoch 3/10\n",
      "24/24 [==============================] - 5s 192ms/step - loss: 0.1466 - val_loss: 0.1434\n",
      "Epoch 4/10\n",
      "24/24 [==============================] - 5s 190ms/step - loss: 0.0736 - val_loss: 0.0427\n",
      "Epoch 5/10\n",
      "24/24 [==============================] - 5s 191ms/step - loss: 0.0321 - val_loss: 0.0366\n",
      "Epoch 6/10\n",
      "24/24 [==============================] - 5s 192ms/step - loss: 0.0314 - val_loss: 0.0363\n",
      "Epoch 7/10\n",
      "24/24 [==============================] - 5s 191ms/step - loss: 0.0310 - val_loss: 0.0346\n",
      "Epoch 8/10\n",
      "24/24 [==============================] - 5s 192ms/step - loss: 0.0308 - val_loss: 0.0363\n",
      "Epoch 9/10\n",
      "24/24 [==============================] - 5s 192ms/step - loss: 0.0302 - val_loss: 0.0345\n",
      "Epoch 10/10\n",
      "24/24 [==============================] - 5s 191ms/step - loss: 0.0300 - val_loss: 0.0349\n"
     ]
    }
   ],
   "source": [
    "model = Sequential()\n",
    "model.add(Conv1D(filters = 32, kernel_size = 8, input_shape = (x_train.shape[1], 3), activation = 'relu'))\n",
    "model.add(Conv1D(32, 4, activation='relu'))\n",
    "model.add(MaxPooling1D(3))\n",
    "model.add(Conv1D(64, 2, activation='relu'))\n",
    "model.add(Conv1D(64, 2, activation='relu'))\n",
    "model.add(MaxPooling1D(3))\n",
    "model.add(Conv1D(128, 2, activation='relu'))\n",
    "model.add(Conv1D(128, 2, activation='relu'))\n",
    "model.add(MaxPooling1D(3))\n",
    "model.add(Flatten())\n",
    "model.add(Dense(100, activation='sigmoid'))\n",
    "model.add(Dense(1, activation='sigmoid'))\n",
    "model.compile(optimizer='sgd', loss='mse')\n",
    "\n",
    "model.summary()\n",
    "learning = model.fit(x_train, y_train, epochs=10, validation_data = (x_test,y_test))\n",
    "#Conv1Dを２層にする、\n",
    "#Conv filters ->上位に行くにつれてふやす\n",
    "#CNN stride"
   ]
  },
  {
   "cell_type": "code",
   "execution_count": 12,
   "metadata": {},
   "outputs": [
    {
     "data": {
      "image/png": "[encoded data removed]",
      "text/plain": [
       "<Figure size 432x288 with 1 Axes>"
      ]
     },
     "metadata": {
      "needs_background": "light"
     },
     "output_type": "display_data"
    },
    {
     "name": "stdout",
     "output_type": "stream",
     "text": [
      "0.3636853577125379\n"
     ]
    }
   ],
   "source": [
    "result = model.predict(x_test).flatten()\n",
    "plt.scatter(result[:3], y_test[:3], c ='red')\n",
    "plt.scatter(result[3:6], y_test[3:6], c='yellow')\n",
    "plt.scatter(result[6:9], y_test[6:9], c='blue')\n",
    "plt.scatter(result[9:12], y_test[9:12], c='green')\n",
    "plt.scatter(result[12:15], y_test[12:15], c='black')\n",
    "plt.scatter(result[15:18], y_test[15:18], c='orange')\n",
    "plt.scatter(result[18:], y_test[18:], c='grey')\n",
    "\n",
    "plt.xlabel('predict')\n",
    "plt.ylabel('y_test')\n",
    "plt.show()\n",
    "cov = np.corrcoef(result, y_test)\n",
    "print(cov[0][1])\n",
    "covlist += [cov[0][1]]"
   ]
  },
  {
   "cell_type": "code",
   "execution_count": 25,
   "metadata": {},
   "outputs": [
    {
     "data": {
      "image/png": "[encoded data removed]",
      "text/plain": [
       "<Figure size 432x288 with 1 Axes>"
      ]
     },
     "metadata": {
      "needs_background": "light"
     },
     "output_type": "display_data"
    },
    {
     "data": {
      "image/png": "[encoded data removed]",
      "text/plain": [
       "<Figure size 432x288 with 1 Axes>"
      ]
     },
     "metadata": {
      "needs_background": "light"
     },
     "output_type": "display_data"
    }
   ],
   "source": [
    "import keras.backend as K\n",
    "from keras.layers.core import Lambda\n",
    "import tensorflow as tf\n",
    "import keras\n",
    "import cv2\n",
    "def target_category_loss(x, category_index, nb_classes):\n",
    "    error_loss = tf.subtract(x, nb_classes)\n",
    "    return tf.square(error_loss)\n",
    "\n",
    "def target_category_loss_output_shape(input_shape):\n",
    "    return input_shape\n",
    "\n",
    "def normalize(x):\n",
    "    # utility function to normalize a tensor by its L2 norm\n",
    "    return x / (K.sqrt(K.mean(K.square(x))) + 1e-5)\n",
    "\n",
    "def grad_cam(input_model, value, real_value,layer_name):\n",
    "    \n",
    "    target_layer = lambda x: target_category_loss(x, value, real_value)\n",
    "\n",
    "    x = input_model.layers[-1].output\n",
    "    x = Lambda(target_layer, output_shape=target_category_loss_output_shape)(x)\n",
    "    model = keras.models.Model(input_model.layers[0].input, x)\n",
    "\n",
    "    loss = K.sum(model.layers[-1].output)\n",
    "    conv_output = [l for l in model.layers if l.name == layer_name][0].output\n",
    "    \n",
    "    g = tf.Graph()\n",
    "    with g.as_default():\n",
    "        grads = tf.gradients(loss, conv_output)[0]\n",
    "    gradient_function = K.function([model.layers[0].input], [conv_output, grads])\n",
    "    #output.shape=(1,*,128)\n",
    "    output, grads_val = gradient_function([value])\n",
    "    output, grads_val = output[0, :, :], grads_val[0, :, :]\n",
    "    #output.shape=(*,128)\n",
    "    weights = np.mean(grads_val, axis = 0)\n",
    "    cam = np.zeros(output.shape[0], dtype = np.float32)\n",
    "    \n",
    "    for i, w in enumerate(weights):\n",
    "        cam += w * output[:, i]\n",
    "        \n",
    "    cam = cam.reshape([cam.shape[0], 1])\n",
    "    #１０００００にしとく\n",
    "    cam = cv2.resize(cam, (1,100000))\n",
    "    cam = np.maximum(cam, 0)\n",
    "    \n",
    "    heatmap = (cam - np.min(cam))/(np.max(cam) - np.min(cam))\n",
    "    heatmap = heatmap.reshape([cam.shape[0]])\n",
    "    \n",
    "    return heatmap\n",
    "NNN=0\n",
    "predict_data = np.array([x_test[NNN]])\n",
    "predictions = model.predict(predict_data)\n",
    "heatmap = grad_cam(model, predict_data, y_test[NNN], 'conv1d_11')\n",
    "\n",
    "plt.plot(x_test[NNN])\n",
    "plt.show()\n",
    "plt.plot(heatmap)\n",
    "plt.show()"
   ]
  },
  {
   "cell_type": "code",
   "execution_count": 89,
   "metadata": {},
   "outputs": [
    {
     "name": "stdout",
     "output_type": "stream",
     "text": [
      "試行回数1.0\n"
     ]
    }
   ],
   "source": [
    "\n",
    "for k in range(21):\n",
    "    error += [[shuffle_index[30+k], result[k],result[k]-y_test[k]]]\n",
    "\n",
    "#print(error)\n",
    "print('試行回数' + str(len(error)/21))"
   ]
  },
  {
   "cell_type": "code",
   "execution_count": 90,
   "metadata": {},
   "outputs": [
    {
     "name": "stdout",
     "output_type": "stream",
     "text": [
      "[0.13647889 0.10148973 0.12842931 0.         0.34517165 0.\n",
      " 0.         0.         0.         0.         0.         0.13385295\n",
      " 0.         0.27798132 0.16674685 0.14411385 0.         0.\n",
      " 0.         0.         0.         0.03191141 0.         0.18078293\n",
      " 0.         0.         0.         0.         0.42340406 0.\n",
      " 0.183803   0.         0.         0.         0.00052769 0.2007418\n",
      " 0.         0.         0.11245125 0.02787125 0.         0.14719401\n",
      " 0.         0.20833071 0.         0.         0.         0.16452547\n",
      " 0.         0.05251    0.14830109]\n"
     ]
    }
   ],
   "source": [
    "def ave_error(error, total = 51):\n",
    "    count = np.zeros(total)\n",
    "    sum_e = np.zeros(total)\n",
    "    for [num, value, er] in error:\n",
    "        count[num] += 1\n",
    "        sum_e[num] += abs(er)\n",
    "    for k in range(total):\n",
    "        if count[k] != 0:\n",
    "            count[k] = sum_e[k] / count[k]\n",
    "            \n",
    "    return count,sum_e\n",
    "\n",
    "ave, sum_e = ave_error(error)\n",
    "print(ave)\n",
    "storage = error[:]\n",
    "#print(y_train_before)"
   ]
  },
  {
   "cell_type": "code",
   "execution_count": 26,
   "metadata": {},
   "outputs": [
    {
     "data": {
      "image/png": "[encoded data removed]",
      "text/plain": [
       "<Figure size 432x288 with 1 Axes>"
      ]
     },
     "metadata": {
      "needs_background": "light"
     },
     "output_type": "display_data"
    },
    {
     "name": "stdout",
     "output_type": "stream",
     "text": [
      "[[1.         0.93916516]\n",
      " [0.93916516 1.        ]]\n"
     ]
    }
   ],
   "source": [
    "\n",
    "tresult = model.predict(x_train).flatten()\n",
    "plt.scatter(tresult, y_train)\n",
    "plt.show()\n",
    "print(np.corrcoef(tresult, y_train))"
   ]
  },
  {
   "cell_type": "code",
   "execution_count": 28,
   "metadata": {},
   "outputs": [
    {
     "data": {
      "image/png": "[encoded data removed]",
      "text/plain": [
       "<Figure size 432x288 with 1 Axes>"
      ]
     },
     "metadata": {
      "needs_background": "light"
     },
     "output_type": "display_data"
    }
   ],
   "source": [
    "plt.plot(range(1, 25+1), learning.history['loss'], label=\"training\")\n",
    "plt.plot(range(1, 25+1), learning.history['val_loss'], label=\"validation\")\n",
    "plt.xlabel('Epochs')\n",
    "plt.ylabel('loss')\n",
    "plt.legend()\n",
    "plt.show()\n"
   ]
  },
  {
   "cell_type": "code",
   "execution_count": null,
   "metadata": {},
   "outputs": [],
   "source": [
    "with open('data/average.csv', 'w') as f:\n",
    "    writer = csv.writer(f)\n",
    "    writer.writerows(ave)\n",
    "    \n",
    "with open('data/cov.csv', 'w') as j:\n",
    "    writer = csv.writer(j)\n",
    "    writer.writerows(covlist)"
   ]
  }
 ],
 "metadata": {
  "kernelspec": {
   "display_name": "Python3-Keras",
   "language": "python",
   "name": "py37"
  },
  "language_info": {
   "codemirror_mode": {
    "name": "ipython",
    "version": 3
   },
   "file_extension": ".py",
   "mimetype": "text/x-python",
   "name": "python",
   "nbconvert_exporter": "python",
   "pygments_lexer": "ipython3",
   "version": "3.7.8"
  }
 },
 "nbformat": 4,
 "nbformat_minor": 4
}
